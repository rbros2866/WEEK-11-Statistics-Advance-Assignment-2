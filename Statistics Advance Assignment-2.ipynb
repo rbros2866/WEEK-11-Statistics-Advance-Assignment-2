{
 "cells": [
  {
   "cell_type": "markdown",
   "metadata": {},
   "source": [
    "**Q1:** What are the Probability Mass Function (PMF) and Probability Density Function (PDF)? Explain with\n",
    "an example."
   ]
  },
  {
   "cell_type": "markdown",
   "metadata": {},
   "source": [
    "**Probability Mass Function (PMF):**\n",
    "\n",
    "Used for discrete random variables.\n",
    "\n",
    "Gives the probability of each possible outcome.\n",
    "\n",
    "Represents the likelihood of a specific value occurring.\n",
    "\n",
    "Sum of probabilities over all possible values is 1.\n",
    "\n",
    "**Probability Density Function (PDF):**\n",
    "\n",
    "Used for continuous random variables.\n",
    "\n",
    "Provides the relative likelihood of a range of values occurring.\n",
    "\n",
    "Represents the probability density at a specific point.\n",
    "\n",
    "Integral over a range gives the probability within that range.\n",
    "\n",
    "**Example: Rolling a Die:**\n",
    "\n",
    "**PMF: When rolling a fair six-sided die, each face has a probability of 1/6.**\n",
    "\n",
    "PMF(1) = 1/6, PMF(2) = 1/6, ..., PMF(6) = 1/6.\n",
    "\n",
    "**PDF: Consider a continuous random variable, like the height of people in a population.**\n",
    "\n",
    "PDF at a specific height is not the probability itself, but the probability density at that height.\n",
    "\n",
    "The integral of the PDF over a range of heights gives the probability of heights within that range."
   ]
  },
  {
   "cell_type": "markdown",
   "metadata": {},
   "source": [
    "**Q2:** What is Cumulative Density Function (CDF)? Explain with an example. Why CDF is used?"
   ]
  },
  {
   "cell_type": "markdown",
   "metadata": {},
   "source": [
    "**Cumulative Density Function (CDF):**\n",
    "\n",
    "A CDF is a function associated with a random variable that gives the probability that the random variable is less than or equal to a specific value.\n",
    "\n",
    "It provides a cumulative view of the distribution of the random variable.\n",
    "\n",
    "The CDF is non-decreasing, meaning it only moves in the upward direction or remains constant.\n",
    "\n",
    "\n",
    "**Why CDF is Used:**\n",
    "\n",
    "**Probability Calculation:** The primary use of the CDF is to calculate the probability that a random variable falls within a certain range. For example, the probability that the variable is between a and b is given by F(b) - F(a).\n",
    "\n",
    "**Quantiles and Percentiles:** CDFs help find quantiles, which are specific values corresponding to certain probabilities. For instance, the median is the value where CDF(x) = 0.5.\n",
    "\n",
    "**Comparison of Distributions:** CDFs are useful for comparing different probability distributions. By comparing their CDFs, you can understand how distributions differ or resemble each other.\n",
    "\n",
    "**Generating Random Values:** CDFs are employed in generating random values that follow a specific distribution. By generating a random number and finding its corresponding value in the CDF, you can simulate random samples from that distribution.\n",
    "\n",
    "**Model Evaluation:** In statistical modeling, the goodness of fit of a theoretical distribution to observed data can be assessed by comparing the CDF of the observed data with the CDF of the theoretical distribution."
   ]
  },
  {
   "cell_type": "markdown",
   "metadata": {},
   "source": [
    "**Example: Rolling a Fair Six-Sided Die**\n",
    "\n",
    "When rolling a fair six-sided die, each face has an equal probability of 1/6. Let's calculate the CDF for this scenario.\n",
    "\n",
    "The possible outcomes are numbers 1 to 6.\n",
    "\n",
    "The CDF gives the probability that the outcome is less than or equal to a specific value.\n",
    "\n",
    "CDF(1) = P(X <= 1) = 1/6\n",
    "\n",
    "CDF(2) = P(X <= 2) = 2/6\n",
    "\n",
    "CDF(3) = P(X <= 3) = 3/6\n",
    "\n",
    "CDF(4) = P(X <= 4) = 4/6\n",
    "\n",
    "CDF(5) = P(X <= 5) = 5/6\n",
    "\n",
    "CDF(6) = P(X <= 6) = 6/6 = 1"
   ]
  },
  {
   "cell_type": "markdown",
   "metadata": {},
   "source": [
    "**Q3:** What are some examples of situations where the normal distribution might be used as a model?\n",
    "\n",
    "Explain how the parameters of the normal distribution relate to the shape of the distribution."
   ]
  },
  {
   "cell_type": "markdown",
   "metadata": {},
   "source": [
    "\n",
    "**Examples of Using the Normal Distribution as a Model:**\n",
    "\n",
    "Height of individuals\n",
    "\n",
    "Test scores in education\n",
    "\n",
    "Errors in measurements and experiments\n",
    "\n",
    "Financial market returns\n",
    "\n",
    "Natural processes and phenomena\n",
    "\n",
    "Biological traits and characteristics\n",
    "\n",
    "**Parameters of the Normal Distribution:**\n",
    "\n",
    "**Mean (μ):**\n",
    "\n",
    "Central value of the distribution.\n",
    "\n",
    "Determines the peak's location.\n",
    "\n",
    "Shifting the mean shifts the entire distribution.\n",
    "\n",
    "**Standard Deviation (σ):**\n",
    "\n",
    "Measures the spread around the mean.\n",
    "\n",
    "Larger σ results in a wider distribution.\n",
    "\n",
    "Smaller σ results in a narrower distribution.\n",
    "\n",
    "Also affects the curve's steepness.\n",
    "\n",
    "**Relation to Shape:**\n",
    "\n",
    "Changing the mean shifts the entire distribution horizontally.\n",
    "\n",
    "The standard deviation impacts the width of the distribution.\n",
    "\n",
    "Larger σ leads to a wider, flatter curve.\n",
    "\n",
    "Smaller σ leads to a narrower, taller curve."
   ]
  },
  {
   "cell_type": "markdown",
   "metadata": {},
   "source": [
    "**Q4:** Explain the importance of Normal Distribution. Give a few real-life examples of Normal\n",
    "Distribution."
   ]
  },
  {
   "cell_type": "markdown",
   "metadata": {},
   "source": [
    "**Importance of Normal Distribution:**\n",
    "\n",
    "Commonality: Many natural processes and phenomena tend to follow the normal distribution, making it a fundamental and frequently encountered pattern.\n",
    "\n",
    "Statistical Inference: It serves as a foundation for various statistical techniques and hypothesis tests due to its well-understood properties.\n",
    "\n",
    "Modeling: It provides a useful approximation for complex systems, simplifying analysis and prediction.\n",
    "\n",
    "Central Limit Theorem: The sum of a large number of independent and identically distributed random variables tends to be normally distributed, making the normal distribution pervasive in many contexts.\n",
    "\n",
    "**Real-Life Examples of Normal Distribution:**\n",
    "\n",
    "Height of Individuals: In a population, human height often follows a normal distribution, with most people being of average height and fewer people being either very short or very tall.\n",
    "\n",
    "IQ Scores: Intelligence quotient (IQ) scores are often modeled using the normal distribution. Most people have average IQ scores, while fewer have significantly high or low scores.\n",
    "\n",
    "Exam Scores: In a well-designed exam, test scores of students tend to form a bell curve, with most students scoring around the average and fewer students scoring at the extremes.\n",
    "\n",
    "Measurement Errors: Errors in measurements and experimental data, influenced by various factors, often follow a normal distribution around the true value.\n"
   ]
  },
  {
   "cell_type": "markdown",
   "metadata": {},
   "source": [
    "**Q5:** What is Bernaulli Distribution? Give an Example. What is the difference between Bernoulli\n",
    "Distribution and Binomial Distribution?"
   ]
  },
  {
   "cell_type": "markdown",
   "metadata": {},
   "source": [
    "**Bernoulli Distribution:**\n",
    "\n",
    "The Bernoulli distribution models a single binary (two possible outcomes) random experiment, where the outcomes are typically labeled as \"success\" and \"failure.\"\n",
    "\n",
    "It's characterized by a single parameter, usually denoted as \"p,\" which represents the probability of success.\n",
    "\n",
    "**Example of Bernoulli Distribution:**\n",
    "\n",
    "Flipping a fair coin: The outcomes are \"Heads\" (success) and \"Tails\" (failure). If we define \"success\" as getting heads, and \"failure\" as getting tails, then the probability of success (p) is 0.5.\n",
    "\n",
    "**Difference between Bernoulli and Binomial Distribution:**\n",
    "\n",
    "**Bernoulli Distribution:**\n",
    "\n",
    "Deals with a single trial or experiment.\n",
    "\n",
    "Has two possible outcomes: success (1) or failure (0).\n",
    "\n",
    "Characterized by a single parameter, p (probability of success).\n",
    "\n",
    "Formula: P(X = x) = p^x * (1 - p)^(1 - x), where x is either 0 or 1.\n",
    "\n",
    "**Binomial Distribution:**\n",
    "\n",
    "Deals with a series of independent and identical trials.\n",
    "\n",
    "Each trial has two possible outcomes (usually labeled success and failure).\n",
    "\n",
    "Characterized by two parameters: n (number of trials) and p (probability of success).\n",
    "\n",
    "Represents the number of successes in n trials.\n",
    "\n",
    "Formula: P(X = k) = (n choose k) * p^k * (1 - p)^(n - k), where k is the number of successes, n choose k is the binomial coefficient.\n",
    "\n",
    "\n",
    "**The Bernoulli distribution is a special case of the binomial distribution where the number of trials (n) is 1. The binomial distribution allows you to calculate the probability of obtaining a specific number of successes in a series of trials, each following a Bernoulli distribution.**"
   ]
  },
  {
   "cell_type": "markdown",
   "metadata": {},
   "source": [
    "**Q6.** Consider a dataset with a mean of 50 and a standard deviation of 10.\n",
    "\n",
    "If we assume that the dataset is normally distributed, what is the probability that a randomly selected observation will be greater than 60? Use the appropriate formula and show your calculations."
   ]
  },
  {
   "cell_type": "markdown",
   "metadata": {},
   "source": [
    "We can use the Z-score formula and the standard normal distribution table (also known as the Z-table).\n",
    "\n",
    "**Z = (X - μ) / σ**\n",
    "\n",
    "Where:\n",
    "\n",
    "X is the value you're interested in (in this case, 60)\n",
    "\n",
    "μ is the mean of the distribution (50)\n",
    "\n",
    "σ is the standard deviation (10)\n",
    "\n",
    "Z is the Z-score\n",
    "\n",
    "Z = (60 - 50) / 10 = 1\n",
    "\n",
    "Now, We need to find the area under the standard normal distribution curve to the right of Z = 1. \n",
    "\n",
    "The Z-table gives the probability that a standard normal random variable is less than a given Z-score.\n",
    "\n",
    "Since we want the probability that the value is greater than 60 (which corresponds to Z = 1), we subtract the Z-tables's value which is (0.84134) from 1.\n",
    "\n",
    "**probability = 1-0.84134 = 0.1587**\n",
    "\n",
    "**Using the Z-table we find that the area to the right of Z = 1 is approximately 0.1587.**"
   ]
  },
  {
   "cell_type": "code",
   "execution_count": 3,
   "metadata": {},
   "outputs": [
    {
     "name": "stdout",
     "output_type": "stream",
     "text": [
      "Probability: 0.15865525393145707\n"
     ]
    }
   ],
   "source": [
    "from scipy.stats import norm\n",
    "\n",
    "mean = 50\n",
    "std_dev = 10\n",
    "value = 60\n",
    "\n",
    "z_score = (value - mean) / std_dev\n",
    "\n",
    "probability = 1 - norm.cdf(z_score)\n",
    "\n",
    "print(\"Probability:\", probability)\n"
   ]
  },
  {
   "cell_type": "markdown",
   "metadata": {},
   "source": [
    "**Q7:** Explain uniform Distribution with an example."
   ]
  },
  {
   "cell_type": "markdown",
   "metadata": {},
   "source": [
    "**Uniform Distribution:**\n",
    "\n",
    "The uniform distribution is a probability distribution where all possible outcomes are equally likely to occur.\n",
    "\n",
    "It's often visualized as a rectangular shape, where every interval within the distribution has the same probability.\n",
    "\n",
    "**Example: Rolling a Fair Die:**\n",
    "\n",
    "Consider rolling a fair six-sided die. Each outcome (1, 2, 3, 4, 5, or 6) has an equal probability of 1/6.\n",
    "\n",
    "**Probability Mass Function (Discrete Uniform):**\n",
    "\n",
    "Assigns equal probability to each possible outcome.\n",
    "\n",
    "**Probability Density Function (Continuous Uniform):**\n",
    "\n",
    "Ensures equal probability within a specified interval.\n",
    "\n",
    "**Characteristics:**\n",
    "\n",
    "Uniform distribution has no peaks or valleys.\n",
    "\n",
    "Used in random number generation, simulations, lotteries, and more."
   ]
  },
  {
   "cell_type": "markdown",
   "metadata": {},
   "source": [
    "**Q8:** What is the z score? State the importance of the z score."
   ]
  },
  {
   "cell_type": "markdown",
   "metadata": {},
   "source": [
    "**Z-Score:**\n",
    "\n",
    "A z-score (also known as a standard score) is a measure of how many standard deviations a data point is away from the mean of a distribution.\n",
    "\n",
    "It standardizes data and allows comparisons between different distributions.\n",
    "\n",
    "**Formula:**\n",
    "The formula for calculating the z-score of a data point \n",
    "\n",
    "**Z = (X - μ) / σ**\n",
    "​\n",
    "**Importance of Z-Score:**\n",
    "\n",
    "**Standardization:** Z-scores standardize data, enabling comparison of data from different distributions regardless of their units or scales.\n",
    "\n",
    "**Outlier Detection:** Z-scores help identify outliers. Data points with z-scores far from 0 indicate unusual values.\n",
    "\n",
    "**Probability Calculation:** Z-scores are used to find probabilities in the standard normal distribution (z-distribution) using the z-table.\n",
    "\n",
    "**Normalization:** Z-scores aid in normalizing data, making it suitable for various statistical techniques.\n",
    "\n",
    "**Research and Analysis:** Z-scores are crucial in hypothesis testing, where they help determine if an observed difference is significant.\n",
    "\n",
    "**Data Interpretation:** Z-scores provide context by showing how a data point relates to the mean and standard deviation of a distribution."
   ]
  },
  {
   "cell_type": "markdown",
   "metadata": {},
   "source": [
    "**Q9:** What is Central Limit Theorem? State the significance of the Central Limit Theorem."
   ]
  },
  {
   "cell_type": "markdown",
   "metadata": {},
   "source": [
    "**Central Limit Theorem (CLT):**\n",
    "\n",
    "States that the distribution of sample means or sums of a sufficiently large number of independent and identically distributed random variables approaches a normal distribution.\n",
    "\n",
    "Holds under specific conditions, even if the original distribution is not normal.\n",
    "\n",
    "**Significance of the Central Limit Theorem:**\n",
    "\n",
    "**Normal Approximation:** Enables approximating sample means with a normal distribution, facilitating statistical analysis.\n",
    "\n",
    "**Sample Size Independence:** As sample size increases, the sample mean distribution becomes more normal, regardless of the original distribution's shape.\n",
    "\n",
    "**Statistical Inference:** Basis for hypothesis testing and confidence interval estimation, allowing normal-based methods for non-normally distributed data.\n",
    "\n",
    "**Real-World Application:** Applies to complex data, aiding reliable conclusions about populations from samples.\n",
    "\n",
    "**Data Summarization:** Makes analysis feasible with large datasets by working with samples.\n",
    "\n",
    "**Stability and Consistency:** Explains why the normal distribution frequently emerges in various fields, ensuring the validity of statistical methods."
   ]
  },
  {
   "cell_type": "markdown",
   "metadata": {},
   "source": [
    "**Q10:** State the assumptions of the Central Limit Theorem."
   ]
  },
  {
   "cell_type": "markdown",
   "metadata": {},
   "source": [
    "**Independence:** Random variables in the sample must be independent of each other.\n",
    "\n",
    "**Identically Distributed:** Random variables should be drawn from the same probability distribution.\n",
    "\n",
    "**Sample Size:** Sample size should be sufficiently large (often considered at least 30).\n",
    "\n",
    "**Finite Variance:** Population should have a finite variance.\n",
    "\n",
    "**No Extreme Outliers:** Extreme outliers in the sample can disrupt convergence."
   ]
  }
 ],
 "metadata": {
  "kernelspec": {
   "display_name": "Python 3",
   "language": "python",
   "name": "python3"
  },
  "language_info": {
   "codemirror_mode": {
    "name": "ipython",
    "version": 3
   },
   "file_extension": ".py",
   "mimetype": "text/x-python",
   "name": "python",
   "nbconvert_exporter": "python",
   "pygments_lexer": "ipython3",
   "version": "3.11.1"
  },
  "orig_nbformat": 4
 },
 "nbformat": 4,
 "nbformat_minor": 2
}
